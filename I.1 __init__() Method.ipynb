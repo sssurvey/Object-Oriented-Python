{
 "cells": [
  {
   "cell_type": "markdown",
   "metadata": {},
   "source": [
    "# Special Methods\n",
    "\n",
    "Before we talk about the __init__() mehod in python. First we talk about the special method in python. The reason we want to have special methods in our classes is for use to design class that act like the native class that python provided, and that provide seamless interaction with Python. A good example is the for the class to act as a extensions of python.\n",
    "\n",
    "Within the Python language, there are large number of special mehods names, and they fall into the following categories:\n",
    "   1. Attribute Access: These special methods implement what we see as object.attribute in an expression, object.attribute on the left-hand side of an assignment, and object.attribute in a del statement\n",
    "   2. Callables: This special method implements what we see as a function that is applied to arguents, much like the built in len() function\n",
    "   3. Collections: These special methods implement the numerous features of collections. This involves methods like sequence[index], mapping[key], some_set|other_set\n",
    "   4. Numbers: These special methods provide arithmetic operators and comparison operators. We can use these methods to expand the domain of numbers that python works with\n",
    "   5. Context: There are two special mehods we'll use to implement a context manager that works with the with statement\n",
    "   6. Iterators: There are special methods that define an iterator. This isn't essential since generator functions handle this feature so elegantly. However, we will take a look at how we can design our own iterators\n",
    "   \n",
    "## Chapter 1 starts\n",
    "\n",
    "We will start talking about the most basic special methods == __init__(), this method permits a greate deal of latitude in providing the initial values for an object. In the case of an immutable object, this is the essential definition of the instance, and clarity becomes very important. In Chapter 1, we will review the numerous design alternatives for this method\n",
    "\n",
    "Before we start talking about the __init__() mehod, we will first take a look the class hierarchy in Python, and start with the super class of all, the Object class\n",
    "\n",
    "## The implicit superclass - Object\n",
    "\n",
    "Object is a very simple class definition that does not include anything (almost). It is possible for us to create an Object, however, many of the special methods will not work on this class. In the meantime, all the class we make is a extend of the object class, for example:"
   ]
  },
  {
   "cell_type": "code",
   "execution_count": 14,
   "metadata": {},
   "outputs": [
    {
     "name": "stdout",
     "output_type": "stream",
     "text": [
      "<class 'type'>\n",
      "<class 'object'>\n"
     ]
    }
   ],
   "source": [
    "class X:\n",
    "    pass\n",
    "\n",
    "class X(object):\n",
    "    pass\n",
    "\n",
    "print(X.__class__)\n",
    "print(X.__class__.__base__)"
   ]
  },
  {
   "cell_type": "markdown",
   "metadata": {},
   "source": [
    "This class is a sub-class of the super class object. As we can see from the type, a class is an object of the class named type, and the base class of the X object we created is the class named object."
   ]
  },
  {
   "cell_type": "markdown",
   "metadata": {},
   "source": [
    "### The base class object __init__() method\n",
    "\n",
    "The fundamental to the life cycle of an object are its: 1. Creation, 2. Initialization, 3. destruction. Here we will focus on talking about the Initialization. \n",
    "\n",
    "The object class has a default implementation of __init__() that amounts to just pass. It is not a must to implement __init__() in our class, if we dont implement this __init__() then no instance variables will be created when the object is created, for some class we might not need __init__(). But most of the time, we will implement __init__() to create instance variable for our custom class\n",
    "\n",
    "It is possible for us to add attributes to an object that is a subclass of the object. For example: "
   ]
  },
  {
   "cell_type": "code",
   "execution_count": 15,
   "metadata": {},
   "outputs": [
    {
     "name": "stdout",
     "output_type": "stream",
     "text": [
      "The area of the Rectangle instance is : 12\n"
     ]
    }
   ],
   "source": [
    "class Rectangle:\n",
    "    def area(self):\n",
    "        return self.length * self.width\n",
    "    \n",
    "r = Rectangle()\n",
    "r.length = 3\n",
    "r.width = 4\n",
    "print( \"The area of the Rectangle instance is : {}\".format(r.area()))"
   ]
  },
  {
   "cell_type": "markdown",
   "metadata": {},
   "source": [
    "The above code is legal in Python, but it causes a lot confusion, thus, it is not considered as a good practice, which should be avoided. Though this could be useful in some cases, it is left to the developer to decide. An __init__() method should make the instance variables explict"
   ]
  },
  {
   "cell_type": "markdown",
   "metadata": {},
   "source": [
    "### Implementing __init__() in a superclass\n",
    "\n",
    "When an object is created, python first create an empty object, and then call the __init__() method for that object. The __init__() method generally creates the object's instance variables and performs any other one-time processing"
   ]
  },
  {
   "cell_type": "code",
   "execution_count": 58,
   "metadata": {},
   "outputs": [],
   "source": [
    "class Card: # superClass Card\n",
    "    def __init__(self, rank, suit):\n",
    "        self.suit = suit\n",
    "        self.rank = rank\n",
    "        self.hard, self.sort = self._points()\n",
    "        \n",
    "class NumberCard(Card): # subClass NumberCard(Card)\n",
    "    def _points(self):\n",
    "        return int(self.rank), int(self.rank)\n",
    "\n",
    "class AceCard(Card):\n",
    "    def _points(self):\n",
    "        return 1, 11\n",
    "\n",
    "class FaceCard(Card):\n",
    "    def _points(self):\n",
    "        return 10, 10"
   ]
  },
  {
   "cell_type": "markdown",
   "metadata": {},
   "source": [
    "In the example above, the __init__() method is in the superclass, so that a common initialization in the superclass, Card, applies to all the three subclasses. And we can also see the polymorphic design here, each sub class has their own implementation of the _points()_ method. All the subclasses have identical signatures, and all of them have the same signiture (a.k.a same attributes and methods). Thus objects of these three subclass can be used interchangeably"
   ]
  },
  {
   "cell_type": "code",
   "execution_count": 57,
   "metadata": {},
   "outputs": [],
   "source": [
    "cards = [AceCard(\"A\", \"Heart\"),NumberCard(\"2\", \"Heart\"),NumberCard(\"3\", \"Heart\")]"
   ]
  },
  {
   "cell_type": "markdown",
   "metadata": {},
   "source": [
    "Here we created a list of cards that has different card in it. We enumerated the object into the list by hand. However, in the future, we will use factory function to create a list. And before we do that, we take a look at some other issues"
   ]
  },
  {
   "cell_type": "markdown",
   "metadata": {},
   "source": [
    "### Using __init__() to create manifest constants\n",
    "\n",
    "Python has no simple formal mechanism for defining an object as immutable, will talk more aobut this in the future chapter. Here in the example we just assume that the object we are using is immutable\n",
    "\n",
    "The following is a class that we'll use to build four manifest constants:"
   ]
  },
  {
   "cell_type": "code",
   "execution_count": 18,
   "metadata": {},
   "outputs": [],
   "source": [
    "class Suit:\n",
    "    def __init__(self, name, symbol):\n",
    "        self.name = name\n",
    "        self.symbol = symbol"
   ]
  },
  {
   "cell_type": "markdown",
   "metadata": {},
   "source": [
    "Now the following is the domain of \"constant\" built around this class:"
   ]
  },
  {
   "cell_type": "code",
   "execution_count": 19,
   "metadata": {},
   "outputs": [],
   "source": [
    "Club, Diamond, Heart, Spade = Suit(\"Club\", \"♧\"), Suit(\"Diamond\", \"♢\"), Suit(\"Heart\", \"♡\"), Suit(\"Spade\", \"♤\")"
   ]
  },
  {
   "cell_type": "markdown",
   "metadata": {},
   "source": [
    "And now we can recreat cards by doing this:"
   ]
  },
  {
   "cell_type": "code",
   "execution_count": 20,
   "metadata": {},
   "outputs": [],
   "source": [
    "cards = [AceCard(\"A\", Heart), NumberCard(\"2\", Spade), NumberCard(\"5\", Club)]"
   ]
  },
  {
   "cell_type": "markdown",
   "metadata": {},
   "source": [
    "Though here it is not much of a improvement over the original cards list, which the Suit of card is represented by a simple string. But this shows a exmple, in more complex cases, there may be a short list of strategy or state object that can be created like this. This can make the Strategy or State design partterns work efficiently by reusing objects from a small static pool of constants.\n",
    "\n",
    "The difference between, State pattern and Strategy pattern:\n",
    "   1. The _State_ pattern deals with __what__(stete or type) an object is (in) -- it encapsulates state dependent behavior\n",
    "   2. The _Strategy_ pattern deals with __how__ an object performs a certain task -- it encapsulates an algorithum"
   ]
  },
  {
   "cell_type": "markdown",
   "metadata": {},
   "source": [
    "## Leveraging __init__() via a factory function\n",
    "\n",
    "Previously we create a deck of card with 3 cards via enumerated 3 cards into the list. Now we can build a complete deck of card via a factory function. And this is a much faster way compare to enumerating all 52 cards. In python there are 2 common approaches to factories as follows:\n",
    "\n",
    "1. We define a function that creates object of the required classes\n",
    "2. We define a class that has methods for creating objects. This is the full factory design pattern, as described in the books on design patterns. In languages such as java, a factory class hierarchy is required because the lang does not support standalone functions\n",
    "\n",
    "In python it is not required to have a class for the factory function, but it is a good idea when there are related factories that are complex. The advantages of a class definitions is that we can inheritant the factory class for reusing the factory function we in the class. If we have a factory class, we can add subclasses to the factory class when extending the target class hierarchy. This will result a polymorphic factory class. The different factory class definitions have the same method signatures and can be used interchangeably.\n",
    "\n",
    "The factory class defination in python is not that helpful if we use that factory once. Thus, we can simply use functions that have the same signatures. \n",
    "\n",
    "__Here is a factory function for the Card subclass :__"
   ]
  },
  {
   "cell_type": "code",
   "execution_count": 54,
   "metadata": {},
   "outputs": [],
   "source": [
    "def card(rank, suit):\n",
    "    if rank == 1: return AceCard('A', suit)\n",
    "    elif 2 <= rank < 11: return NumberCard(str(rank), suit)\n",
    "    elif 11 <= rank < 14:\n",
    "        name = {11:'J', 12:'Q', 13:'K'}[rank] # this is the same as aMap[\"key\"]\n",
    "        return FaceCard(name, suit)\n",
    "    else:\n",
    "        raise Exception(\"Rank out of range\")"
   ]
  },
  {
   "cell_type": "markdown",
   "metadata": {},
   "source": [
    "The function above bulds a Card class from a numeric rank number and a suit object. The above is a encapsulation of the construction issues in a single (factory) function, allowing an application to be built without knowing precisely how the class hierarchy and polymorphic design works.\n",
    "\n",
    "__Here is a example of how we can build a deck with this factory function:__"
   ]
  },
  {
   "cell_type": "code",
   "execution_count": 22,
   "metadata": {},
   "outputs": [],
   "source": [
    "deck = [card(rank, suit) \n",
    "        for rank in range(1, 14) \n",
    "            for suit in (Club, Diamond, Heart, Spade)]"
   ]
  },
  {
   "cell_type": "markdown",
   "metadata": {},
   "source": [
    "The above loop enumerates all the ranks and suits to create a complete deck of 52 cards"
   ]
  },
  {
   "cell_type": "markdown",
   "metadata": {},
   "source": [
    "### Faulty factory design and the vague else clause\n",
    "\n",
    "We should not use a catch-all else clause to do any processing, we only use it to raise an exception. It is important to avoid the vague else clause, __An Example__:"
   ]
  },
  {
   "cell_type": "code",
   "execution_count": 23,
   "metadata": {},
   "outputs": [],
   "source": [
    "def card2(rank, suit):\n",
    "    if rank == 1: return Card('A', suit)\n",
    "    elif 2 <= rank < 11: return NumberCard(str(rank), suit)\n",
    "    else:\n",
    "        name = {11:\"J\", 12:\"Q\", 13:\"K\"}[rank]\n",
    "        return FaceCard(name, suit)"
   ]
  },
  {
   "cell_type": "code",
   "execution_count": 24,
   "metadata": {},
   "outputs": [
    {
     "ename": "KeyError",
     "evalue": "0",
     "output_type": "error",
     "traceback": [
      "\u001b[0;31m---------------------------------------------------------------------------\u001b[0m",
      "\u001b[0;31mKeyError\u001b[0m                                  Traceback (most recent call last)",
      "\u001b[0;32m<ipython-input-24-f52d74dff2c3>\u001b[0m in \u001b[0;36m<module>\u001b[0;34m()\u001b[0m\n\u001b[0;32m----> 1\u001b[0;31m \u001b[0mdeck2\u001b[0m \u001b[0;34m=\u001b[0m \u001b[0;34m[\u001b[0m\u001b[0mcard2\u001b[0m\u001b[0;34m(\u001b[0m\u001b[0mrank\u001b[0m\u001b[0;34m,\u001b[0m \u001b[0msuit\u001b[0m\u001b[0;34m)\u001b[0m \u001b[0;32mfor\u001b[0m \u001b[0mrank\u001b[0m \u001b[0;32min\u001b[0m \u001b[0mrange\u001b[0m\u001b[0;34m(\u001b[0m\u001b[0;36m13\u001b[0m\u001b[0;34m)\u001b[0m \u001b[0;32mfor\u001b[0m \u001b[0msuit\u001b[0m \u001b[0;32min\u001b[0m \u001b[0;34m(\u001b[0m\u001b[0mClub\u001b[0m\u001b[0;34m,\u001b[0m \u001b[0mDiamond\u001b[0m\u001b[0;34m,\u001b[0m \u001b[0mHeart\u001b[0m\u001b[0;34m,\u001b[0m \u001b[0mSpade\u001b[0m\u001b[0;34m)\u001b[0m\u001b[0;34m]\u001b[0m\u001b[0;34m\u001b[0m\u001b[0m\n\u001b[0m",
      "\u001b[0;32m<ipython-input-24-f52d74dff2c3>\u001b[0m in \u001b[0;36m<listcomp>\u001b[0;34m(.0)\u001b[0m\n\u001b[0;32m----> 1\u001b[0;31m \u001b[0mdeck2\u001b[0m \u001b[0;34m=\u001b[0m \u001b[0;34m[\u001b[0m\u001b[0mcard2\u001b[0m\u001b[0;34m(\u001b[0m\u001b[0mrank\u001b[0m\u001b[0;34m,\u001b[0m \u001b[0msuit\u001b[0m\u001b[0;34m)\u001b[0m \u001b[0;32mfor\u001b[0m \u001b[0mrank\u001b[0m \u001b[0;32min\u001b[0m \u001b[0mrange\u001b[0m\u001b[0;34m(\u001b[0m\u001b[0;36m13\u001b[0m\u001b[0;34m)\u001b[0m \u001b[0;32mfor\u001b[0m \u001b[0msuit\u001b[0m \u001b[0;32min\u001b[0m \u001b[0;34m(\u001b[0m\u001b[0mClub\u001b[0m\u001b[0;34m,\u001b[0m \u001b[0mDiamond\u001b[0m\u001b[0;34m,\u001b[0m \u001b[0mHeart\u001b[0m\u001b[0;34m,\u001b[0m \u001b[0mSpade\u001b[0m\u001b[0;34m)\u001b[0m\u001b[0;34m]\u001b[0m\u001b[0;34m\u001b[0m\u001b[0m\n\u001b[0m",
      "\u001b[0;32m<ipython-input-23-f4c9b873684b>\u001b[0m in \u001b[0;36mcard2\u001b[0;34m(rank, suit)\u001b[0m\n\u001b[1;32m      3\u001b[0m     \u001b[0;32melif\u001b[0m \u001b[0;36m2\u001b[0m \u001b[0;34m<=\u001b[0m \u001b[0mrank\u001b[0m \u001b[0;34m<\u001b[0m \u001b[0;36m11\u001b[0m\u001b[0;34m:\u001b[0m \u001b[0;32mreturn\u001b[0m \u001b[0mNumberCard\u001b[0m\u001b[0;34m(\u001b[0m\u001b[0mstr\u001b[0m\u001b[0;34m(\u001b[0m\u001b[0mrank\u001b[0m\u001b[0;34m)\u001b[0m\u001b[0;34m,\u001b[0m \u001b[0msuit\u001b[0m\u001b[0;34m)\u001b[0m\u001b[0;34m\u001b[0m\u001b[0m\n\u001b[1;32m      4\u001b[0m     \u001b[0;32melse\u001b[0m\u001b[0;34m:\u001b[0m\u001b[0;34m\u001b[0m\u001b[0m\n\u001b[0;32m----> 5\u001b[0;31m         \u001b[0mname\u001b[0m \u001b[0;34m=\u001b[0m \u001b[0;34m{\u001b[0m\u001b[0;36m11\u001b[0m\u001b[0;34m:\u001b[0m\u001b[0;34m\"J\"\u001b[0m\u001b[0;34m,\u001b[0m \u001b[0;36m12\u001b[0m\u001b[0;34m:\u001b[0m\u001b[0;34m\"Q\"\u001b[0m\u001b[0;34m,\u001b[0m \u001b[0;36m13\u001b[0m\u001b[0;34m:\u001b[0m\u001b[0;34m\"K\"\u001b[0m\u001b[0;34m}\u001b[0m\u001b[0;34m[\u001b[0m\u001b[0mrank\u001b[0m\u001b[0;34m]\u001b[0m\u001b[0;34m\u001b[0m\u001b[0m\n\u001b[0m\u001b[1;32m      6\u001b[0m         \u001b[0;32mreturn\u001b[0m \u001b[0mFaceCard\u001b[0m\u001b[0;34m(\u001b[0m\u001b[0mname\u001b[0m\u001b[0;34m,\u001b[0m \u001b[0msuit\u001b[0m\u001b[0;34m)\u001b[0m\u001b[0;34m\u001b[0m\u001b[0m\n",
      "\u001b[0;31mKeyError\u001b[0m: 0"
     ]
    }
   ],
   "source": [
    "deck2 = [card2(rank, suit) for rank in range(13) for suit in (Club, Diamond, Heart, Spade)]"
   ]
  },
  {
   "cell_type": "markdown",
   "metadata": {},
   "source": [
    "Notice the program got interrupted and an error occur, it is because rank now starts from 0 to 13 instead of 1 to 14. Since when the rank == 0 it is in the else clause, thus a card is trying to be created. Thus the error occur. If we use the old function, it is easier to spot the mistake, it is because of \"Rank out of range\"\n",
    "\n",
    "Remeber, only use else clause for processing if the condition is obvious. When in doubt, use an elif"
   ]
  },
  {
   "cell_type": "markdown",
   "metadata": {},
   "source": [
    "### Simplicity and consistency using elif sequences\n",
    "\n",
    "There are 2 very common factory design patterns in the card factory function we have:\n",
    "1. An if-elif sequence\n",
    "2. A mapping\n",
    "\n",
    "It is __always__ possible for us to replace a mapping with elif conditions. (However, it is not possible for a map to replace if-elif) Here is a example of the new card factory function with the mapping replaced by the if-elif statement:"
   ]
  },
  {
   "cell_type": "code",
   "execution_count": 25,
   "metadata": {},
   "outputs": [],
   "source": [
    "def card3(rank, suit):\n",
    "    if rank == 1: return Card(\"A\", suit)\n",
    "    elif 2 <= rank < 11: return Card(str(rank), suit)\n",
    "    elif rank == 11: return FaceCard(\"J\", suit)\n",
    "    elif rank == 12: return FaceCard(\"Q\", suit)\n",
    "    elif rank == 13: return FaceCard(\"K\", suit)\n",
    "    else: raise Exception(\"Rank out of range\")"
   ]
  },
  {
   "cell_type": "markdown",
   "metadata": {},
   "source": [
    "Now as you can see in the above card factory function, the map has been replace via a if-elif clause, and it will work as the same card() function. This function has the advantage that it is more consistent than the previous card factory function"
   ]
  },
  {
   "cell_type": "markdown",
   "metadata": {},
   "source": [
    "### Simplicity using mapping and class objects\n",
    "\n",
    "In some other cases mapping works better than the if-elif clause. For complex cases, if-elif might be the only way to describe the process, however, for the simple cases a mapping solution might be the better choice, in the mean time, it is easier to read"
   ]
  },
  {
   "cell_type": "code",
   "execution_count": 26,
   "metadata": {},
   "outputs": [],
   "source": [
    "def card4(rank, suit):\n",
    "    class_ = {1: AceCard, 11: FaceCard, 12: FaceCard, 13: FaceCard}.get(rank, NumberCard)\n",
    "    # dict.get(key, defult=), here it means, case 1, 11, 12, 13 is like the special case, and all others == Number\n",
    "    # class_ here is a holder of the class == *card\n",
    "    return class_(rank, suit)"
   ]
  },
  {
   "cell_type": "markdown",
   "metadata": {},
   "source": [
    "__class___ explain, the postfix underscore naming convention is used when the most fit name for a variable is occupied by a keyword, thus we add postfixed underscore to our variable name to avoid the rule break"
   ]
  },
  {
   "cell_type": "code",
   "execution_count": 27,
   "metadata": {},
   "outputs": [],
   "source": [
    "deck2 = [card4(rank, suit) for rank in range(1, 14) for suit in (Club, Diamond, Heart, Spade)]"
   ]
  },
  {
   "cell_type": "markdown",
   "metadata": {},
   "source": [
    "Basically what happend here is that, in the function called card4, a class object called class\\_ is created, this object can be AceCard, FaceCard or NumberCard. Now we have passed in a rank and a suit, rank is a number, while the temp dict is mapped by number as key, while card object as value. This is just like the if condition or a switch satement. the class_ is determined by the number, if the number is == 1, the class_ is assigned as a AceCard, if its 11,12,13 then it is assigned as a FaceCard, else, it is default as a NumberCard. after the class_ object is determined. we return it with class_(rank, suit), while the rank is provided by outer for loop and suit is provide by the inner for loop, just like what we have for the card function. __Notice__ for this function, it is not maping rank 1 == \"A\" or 11,12,13 == \"J\",\"Q\",\"K\". This can be avoided by using Two parallel mappings, but it is not recommanded, and an alternative solution is that to have __init__() do the mapping of this part"
   ]
  },
  {
   "cell_type": "markdown",
   "metadata": {},
   "source": [
    "### Mapping to a tuple of values\n",
    "\n",
    "Here is a example of this kind of factory function design: __The goal of this is to mantain what we have in card4(), while in the same time, provide a rank to string mapping, a.k.a, 11 ==> \"J\"__"
   ]
  },
  {
   "cell_type": "code",
   "execution_count": 44,
   "metadata": {},
   "outputs": [],
   "source": [
    "def card5(rank, suit):\n",
    "    class_, rank_str = {\n",
    "        1: (AceCard, 'A'),\n",
    "        11: (FaceCard, 'J'),\n",
    "        12: (FaceCard, 'Q'),\n",
    "        13: (FaceCard, 'K'),\n",
    "    }.get(rank, (NumberCard, str(rank)))\n",
    "    return class_(rank_str, suit)"
   ]
  },
  {
   "cell_type": "markdown",
   "metadata": {},
   "source": [
    "__Explain__, in this card5 factory method, we have both:\n",
    "\n",
    "1. class_\n",
    "2. rank_str\n",
    "\n",
    "need to be assigned, we write special case for AceCard, and FaceCard, mapped via key == rank, while left the default to be the NumberCard. Notice we bound the rank string value with each card type, thus, while we are searching values that has key == rank, we change rank to ranked_str at the same time. At the end we achieve the same outcome as the original card() factory function"
   ]
  },
  {
   "cell_type": "markdown",
   "metadata": {},
   "source": [
    "### The partial function solution\n",
    "\n",
    "A partial() function is a function that already has some (not all) of its arguments provided. We'll use the partial() function from the functools library to create a partial of a class with the rank argument, __For Example:__"
   ]
  },
  {
   "cell_type": "code",
   "execution_count": 45,
   "metadata": {},
   "outputs": [],
   "source": [
    "from functools import partial\n",
    "\n",
    "def cardPartial(rank, suit):\n",
    "    part_class = {\n",
    "        1:  partial(AceCard, 'A'),\n",
    "        11: partial(FaceCard, 'J'),\n",
    "        12: partial(FaceCard, 'Q'),\n",
    "        13: partial(FaceCard, 'K'),\n",
    "    }.get(rank, partial(NumberCard, str(rank)))\n",
    "    return part_class(suit)\n",
    "\n",
    "# partial(func, *args, **kwargs)"
   ]
  },
  {
   "cell_type": "markdown",
   "metadata": {},
   "source": [
    "__Explain__ basically the partial function creates part of the class, and lastly the function card6 finish off by providing the last needed parameter for the class to finally be created"
   ]
  },
  {
   "cell_type": "markdown",
   "metadata": {},
   "source": [
    "### Fluent APIs for factories\n",
    "\n",
    "We might have x.a().b() as an object notation. We can think of it as x(a,b). The x.a() function is a kind of partial() function that is waiting for b(). We can think of this as if it were x(a)(b). So, instead of using partial() to update our own object, we can write partial() function into a fluent factory object. We make the setting of the rank object a fluent method that returns self. Setting the suit object will actually create the Card instance. __Example:__"
   ]
  },
  {
   "cell_type": "code",
   "execution_count": 30,
   "metadata": {},
   "outputs": [],
   "source": [
    "class CardFactory:\n",
    "    def rank(self, rank):\n",
    "        # self.class_ init\n",
    "        self.class_, self.rank_str = {\n",
    "            1:(AceCard, 'A'),\n",
    "            11:(FaceCard, 'J'),\n",
    "            12:(FaceCard, 'Q'),\n",
    "            13:(FaceCard, 'K'),\n",
    "        }.get(rank, (NumberCard, str(rank)))\n",
    "        return self\n",
    "    def suit(self, suit):\n",
    "        return self.class_(self.rank_str, suit)"
   ]
  },
  {
   "cell_type": "code",
   "execution_count": 31,
   "metadata": {},
   "outputs": [],
   "source": [
    "card8 = CardFactory()\n",
    "deck8 = [card8.rank(r+1).suit(s) for r in range(13) for s in (Club, Diamond, Heart, Spade)]"
   ]
  },
  {
   "cell_type": "markdown",
   "metadata": {},
   "source": [
    "The fluent API implementation does not change how the __init__() in the card object works, but it odes changed how the client application creates objects"
   ]
  },
  {
   "cell_type": "markdown",
   "metadata": {},
   "source": [
    "### Implmenting __init__() in each subclass\n",
    "\n",
    "Now instead of using a factory functions for creating card object, we can shift the conversion of rank number down to each Card object. And in order to do this, this will requires some common initialization of a superclass as well as subclass-specific initialization. We need to follow the __DRY__(Don't Repeat Yourself) principle to keep the code from getting cloned into each of the subclasses.\n",
    "__For Example:__"
   ]
  },
  {
   "cell_type": "code",
   "execution_count": 32,
   "metadata": {},
   "outputs": [],
   "source": [
    "class Card:\n",
    "    pass\n",
    "class NumberCard(Card):\n",
    "    def __init__(self, rank, suit):\n",
    "        self.suit = suit\n",
    "        self.rank = str(rank)\n",
    "        self.hard = self.soft = rank\n",
    "class AceCard(Card):\n",
    "    def __init__(self, rank, suit):\n",
    "        self.suit = suit\n",
    "        self.rank = \"A\"\n",
    "        self.hard, self.soft = 1, 11\n",
    "class FaceCard(Card):\n",
    "    def __init__(self, rank, suit):\n",
    "        self.suit = suit\n",
    "        self.rank = {\n",
    "            11:\"J\",\n",
    "            12:\"Q\",\n",
    "            13:\"K\",\n",
    "        }[rank]\n",
    "        self.hard = self.soft = 10"
   ]
  },
  {
   "cell_type": "markdown",
   "metadata": {},
   "source": [
    "As you can see, it is polymorphic here, however, there is a lacking of truly common initialization, thus added redundancy to the code, here is a different take on this:"
   ]
  },
  {
   "cell_type": "code",
   "execution_count": 33,
   "metadata": {},
   "outputs": [],
   "source": [
    "class Card:\n",
    "    def __init__(self, rank, suit, hard, soft):\n",
    "        self.rank = rank\n",
    "        self.suit = suit\n",
    "        self.hard = hard\n",
    "        self.soft = soft\n",
    "class NumberCard(Card):\n",
    "    def __init__(self, rank, suit):\n",
    "        super().__init__(str(rank), suit, rank, rank) # hard = soft = rank for NumberCard\n",
    "class FaceCard(Card):\n",
    "    def __init__(self, rank, suit):\n",
    "        super().__init__({11:'J', 12:'Q', 13:'K'}[rank], suit, 10, 10)\n",
    "class AceCard(Card):\n",
    "    def __init__(sef, rank, suit):\n",
    "        super().__init__(\"A\", suit, 1, 11)"
   ]
  },
  {
   "cell_type": "markdown",
   "metadata": {},
   "source": [
    "Now we can look back at the factory function that create the Cards. We currently modify the original card class, and implemented the __init__() at both the super class and the subclass level. This can make oour factory function become simpler. __For Example__:"
   ]
  },
  {
   "cell_type": "code",
   "execution_count": 34,
   "metadata": {},
   "outputs": [],
   "source": [
    "def card10(rank, suit):\n",
    "    if rank == 1: return AceCard(rank, suit)\n",
    "    elif 2 <= rank < 11: return NumberCard(rank, suit)\n",
    "    elif 11 <= rank < 14: return FaceCard(rank, suit)\n",
    "    else:\n",
    "        raise Exception(\"Rank out of range\")"
   ]
  },
  {
   "cell_type": "code",
   "execution_count": 35,
   "metadata": {},
   "outputs": [],
   "source": [
    "deck10 = [card10(rank, suit) for rank in range(1,14) for suit in (Club, Diamond, Heart, Spade)]"
   ]
  },
  {
   "cell_type": "markdown",
   "metadata": {},
   "source": [
    "__Notice__ simplifying the factory function should not be our focus. We can see that we use a rather long __init__() to trade for a slightly simple factory function. This is a common trade off. __It is better to stick with more direct but less programmer-friendly init() methods and push the complexity into factory functions. Since a factory function can be very simple, if you with to wrap and encapsulate the construction complexities__"
   ]
  },
  {
   "cell_type": "markdown",
   "metadata": {},
   "source": [
    "### Simple composite objects\n",
    "\n",
    "Composite objects can also be called containers. In the example that this book is using, a deck of individual cards can be a composite object. And it can be represent as a list. The list not only provide a container for the cards, but also can be applied to random.shuffle() and deck.pop(), to achieve huffle and to deal cards. Remember it before start to create a composite object right away, check if any built in class can do the same thing. __Example__:"
   ]
  },
  {
   "cell_type": "code",
   "execution_count": 59,
   "metadata": {},
   "outputs": [],
   "source": [
    "# note to run this cell, the cell is using the first Card class def, and it is using the first card\n",
    "# factory function\n",
    "import random\n",
    "\n",
    "d = [card(r, s) for r in range(1,14) for s in (Club, Diamond, Heart, Spade)]\n",
    "random.shuffle(d)\n",
    "hand = [d.pop(), d.pop()]"
   ]
  },
  {
   "cell_type": "markdown",
   "metadata": {},
   "source": [
    "To design a collection of objects, we have the following three general design strategies:\n",
    "1. __Warp__: This design pattern is an existing collection definition. This might be an example of the Facade design pattern\n",
    "2. __Extend__: This design pattern is an existing collection class. This is ordinary subclass definition\n",
    "3. __Invent__: This is designed from scratch. We'll look at this in the future\n",
    "\n",
    "These 3 concept are central to OO design, we must always make this choice when designing a class"
   ]
  },
  {
   "cell_type": "markdown",
   "metadata": {},
   "source": [
    "### Wrapping a collection class\n",
    "## - Warp\n",
    "The following is a wrapper design that contains an internal collection:"
   ]
  },
  {
   "cell_type": "code",
   "execution_count": 65,
   "metadata": {},
   "outputs": [],
   "source": [
    "# note to run this cell, the cell is using the first Card class def, and it is using the first card\n",
    "# factory function\n",
    "class Deck:\n",
    "    def __init__(self):\n",
    "        self._cards = [card(r+1,s) for r in range(13) for s in (Club, Spade, Heart, Diamond)]\n",
    "        random.shuffle(self._cards)\n",
    "    def pop(self):\n",
    "        return self._cards.pop()"
   ]
  },
  {
   "cell_type": "markdown",
   "metadata": {},
   "source": [
    "Now the Deck class is defined, and in the heart of this class is a list object. And the pop method that is in the class is simply a very simple wrapper that is around the pop() from the list obj. With this deck class it is not very easy for us to create a Hand instance with the following:"
   ]
  },
  {
   "cell_type": "code",
   "execution_count": 61,
   "metadata": {},
   "outputs": [],
   "source": [
    "d = Deck()\n",
    "hand = [d.pop(), d.pop()]"
   ]
  },
  {
   "cell_type": "markdown",
   "metadata": {},
   "source": [
    "Generally, a __Facade__ design pattern or wrapper class contains methods that are simply delegated to the underlying implementation class. However, this delegation can become wordy. For a sophisticated collection, we may wind up delegating a large number of methods to the wrapped object."
   ]
  },
  {
   "cell_type": "markdown",
   "metadata": {},
   "source": [
    "### Extending a collection class\n",
    "## - Extend\n",
    "\n",
    "Another apporach to this is to inherit the list object, with the inheritance, we __do not__ need to rewrite the pop method for the class, since the pop() function is automatically implemented via inheritance, __For Example:__"
   ]
  },
  {
   "cell_type": "code",
   "execution_count": 64,
   "metadata": {},
   "outputs": [],
   "source": [
    "class Deck2(list):\n",
    "    def __init__(self):\n",
    "        super().__init__(card(r+1, s) for r in range(13) for s in (Diamond, Spade, Heart, Club))\n",
    "        random.shuffle(self)"
   ]
  },
  {
   "cell_type": "markdown",
   "metadata": {},
   "source": [
    "We leverage the superclass's __init__() method to populate our list object with an initial single deck of cards. Then we shuffle the cards. The pop() method is simply inherited from list and works good here. Other methods inherited from the list also work."
   ]
  },
  {
   "cell_type": "markdown",
   "metadata": {},
   "source": [
    "### More requirements and another design\n",
    "\n",
    "Usually in a casino, people are not just using a deck to dealt cards, instead there is a thing called a shoe, within that shoe there are usually multiple decks of cards. However, not all the deck are used in a shoe, there is also a card called marker card, and it mark the range of the card that can be dealt [0:markercard] that means we can't really just use a list object and warp around it to call it a deck. We need a new class to express the deck with more rules applied to it. __For Example__:"
   ]
  },
  {
   "cell_type": "code",
   "execution_count": 66,
   "metadata": {},
   "outputs": [],
   "source": [
    "class Deck3(list):\n",
    "    def __init__(self, decks = 1): # default deck in the shoe is 1\n",
    "        super().__init__()\n",
    "        for i in range(decks): # shoe size depends on the deck size\n",
    "            self.extend(card(r+1, s) for r in range(13) for s in (Club, Diamond, Heart, Spade))\n",
    "        random.shuffle(self)\n",
    "        burn = random.randint(1,52*decks) # the random marker card location\n",
    "        for i in range(burn): self.pop() # deal cards till it hit the marker card"
   ]
  },
  {
   "cell_type": "markdown",
   "metadata": {},
   "source": [
    "Here in this method, we use the __init__() superclass to build an empty collection. Then, we used self.extend() to append the 52 cards to the shoe, however, we can also use super.extend() here since we did not provide any override to the extend method that we intherited from the super class so it doesn't matter if we called self or super here. In the mean time we can also use this for the __init__()\n",
    "\n",
    "    super().__init__(card(r+1, s) for r in range(13) for s in (Diamond, Spade, Heart, Club) for d in range(decks))\n",
    "    \n",
    "Currrently this class provides a collection of cards instances that we can use to emulate casino blackjack as dealt form a shoe. There is a peculiar ritual in a casino where they reveal the burned card (marker card). If we're going to design a card-counting player strategy, we might want to emulate this nuance too"
   ]
  },
  {
   "cell_type": "markdown",
   "metadata": {},
   "source": [
    "### Complex composite objects\n",
    "\n",
    "pdf(62)"
   ]
  }
 ],
 "metadata": {
  "kernelspec": {
   "display_name": "Python 3",
   "language": "python",
   "name": "python3"
  },
  "language_info": {
   "codemirror_mode": {
    "name": "ipython",
    "version": 3
   },
   "file_extension": ".py",
   "mimetype": "text/x-python",
   "name": "python",
   "nbconvert_exporter": "python",
   "pygments_lexer": "ipython3",
   "version": "3.6.3"
  }
 },
 "nbformat": 4,
 "nbformat_minor": 2
}
