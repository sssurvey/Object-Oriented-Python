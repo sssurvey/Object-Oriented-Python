{
 "cells": [
  {
   "cell_type": "markdown",
   "metadata": {},
   "source": [
    "# Special Methods\n",
    "\n",
    "Before we talk about the __init__() mehod in python. First we talk about the special method in python. The reason we want to have special methods in our classes is for use to design class that act like the native class that python provided, and that provide seamless interaction with Python. A good example is the for the class to act as a extensions of python.\n",
    "\n",
    "Within the Python language, there are large number of special mehods names, and they fall into the following categories:\n",
    "    1. Attribute Access: These special methods implement what we see as object.attribute in an expression, object.attribute on the left-hand side of an assignment, and object.attribute in a del statement\n",
    "    2. Callables: This special method implements what we see as a function that is applied to arguents, much like the built in len() function\n",
    "    3. Collections: These special methods implement the numerous features of collections. This involves methods like sequence[index], mapping[key], some_set|other_set\n",
    "    4. Numbers: These special methods provide arithmetic operators and comparison operators. We can use these methods to expand the domain of numbers that python works with\n",
    "    5. Context: There are two special mehods we'll use to implement a context manager that works with the with statement\n",
    "    6. Iterators: There are special methods that define an iterator. This isn't essential since generator functions handle this feature so elegantly. However, we will take a look at how we can design our own iterators\n",
    "   \n",
    "## Chapter 1 starts\n",
    "\n",
    "We will start talking about the most basic special methods == __init__(), this method permits a greate deal of latitude in providing the initial values for an object. In the case of an immutable object, this is the essential definition of the instance, and clarity becomes very important. In Chapter 1, we will review the numerous design alternatives for this method\n",
    "\n",
    "Before we start talking about the __init__() mehod, we will first take a look the class hierarchy in Python, and start with the super class of all, the Object class\n",
    "\n",
    "## The implicit superclass - Object\n",
    "\n",
    "Object is a very simple class definition that does not include anything (almost). It is possible for us to create an Object, however, many of the special methods will not work on this class. In the meantime, all the class we make is a extend of the object class, for example:"
   ]
  },
  {
   "cell_type": "code",
   "execution_count": 8,
   "metadata": {},
   "outputs": [
    {
     "name": "stdout",
     "output_type": "stream",
     "text": [
      "<class 'type'>\n",
      "<class 'object'>\n"
     ]
    }
   ],
   "source": [
    "class X:\n",
    "    pass\n",
    "\n",
    "class X(object):\n",
    "    pass\n",
    "\n",
    "print(X.__class__)\n",
    "print(X.__class__.__base__)"
   ]
  },
  {
   "cell_type": "markdown",
   "metadata": {},
   "source": [
    "This class is a sub-class of the super class object. As we can see from the type, a class is an object of the class named type, and the base class of the X object we created is the class named object."
   ]
  },
  {
   "cell_type": "markdown",
   "metadata": {},
   "source": [
    "### The base class object __init__() method\n",
    "\n",
    "The fundamental to the life cycle of an object are its: 1. Creation, 2. Initialization, 3. destruction. Here we will focus on talking about the Initialization. \n",
    "\n",
    "The object class has a default implementation of __init__() that amounts to just pass. It is not a must to implement __init__() in our class, if we dont implement this __init__() then no instance variables will be created when the object is created, for some class we might not need __init__(). But most of the time, we will implement __init__() to create instance variable for our custom class\n",
    "\n",
    "It is possible for us to add attributes to an object that is a subclass of the object. For example: "
   ]
  },
  {
   "cell_type": "code",
   "execution_count": 13,
   "metadata": {},
   "outputs": [
    {
     "name": "stdout",
     "output_type": "stream",
     "text": [
      "The area of the Rectangle instance is : 12\n"
     ]
    }
   ],
   "source": [
    "class Rectangle:\n",
    "    def area(self):\n",
    "        return self.length * self.width\n",
    "    \n",
    "r = Rectangle()\n",
    "r.length = 3\n",
    "r.width = 4\n",
    "print( \"The area of the Rectangle instance is : {}\".format(r.area()))"
   ]
  },
  {
   "cell_type": "markdown",
   "metadata": {},
   "source": [
    "The above code is legal in Python, but it causes a lot confusion, thus, it is not considered as a good practice, which should be avoided. Though this could be useful in some cases, it is left to the developer to decide. An __init__() method should make the instance variables explict"
   ]
  },
  {
   "cell_type": "markdown",
   "metadata": {},
   "source": [
    "### Implementing __init__() in a superclass\n",
    "\n",
    "When an object is created, python first create an empty object, and then call the __init__() method for that object. The __init__() method generally creates the object's instance variables and performs any other one-time processing"
   ]
  },
  {
   "cell_type": "code",
   "execution_count": 15,
   "metadata": {},
   "outputs": [],
   "source": [
    "class Card: # superClass Card\n",
    "    def __init__(self, rank, suit):\n",
    "        self.suit = suit\n",
    "        self.rank = rank\n",
    "        self.hard, self.sort = self._points()\n",
    "        \n",
    "class NumberCard(Card): # subClass NumberCard(Card)\n",
    "    def _points(self):\n",
    "        return int(self.rank), int(self.rank)\n",
    "\n",
    "class AceCard(Card):\n",
    "    def _points(self):\n",
    "        return 1, 11\n",
    "\n",
    "class FaceCard(Card):\n",
    "    def _points(self):\n",
    "        return 10, 10"
   ]
  },
  {
   "cell_type": "markdown",
   "metadata": {},
   "source": [
    "In the example above, the __init__() method is in the superclass, so that a common initialization in the superclass, Card, applies to all the three subclasses. And we can also see the polymorphic design here, each sub class has their own implementation of the _points()_ method. All the subclasses have identical signatures, and all of them have the same signiture (a.k.a same attributes and methods). Thus objects of these three subclass can be used interchangeably"
   ]
  },
  {
   "cell_type": "code",
   "execution_count": 16,
   "metadata": {},
   "outputs": [],
   "source": [
    "cards = [AceCard(\"A\", \"Heart\"),NumberCard(\"2\", \"Heart\"),NumberCard(\"3\", \"Heart\")]"
   ]
  },
  {
   "cell_type": "markdown",
   "metadata": {},
   "source": [
    "Here we created a list of cards that has different card in it. We enumerated the object into the list by hand. However, in the future, we will use factory function to create a list. And before we do that, we take a look at some other issues"
   ]
  },
  {
   "cell_type": "code",
   "execution_count": null,
   "metadata": {},
   "outputs": [],
   "source": []
  }
 ],
 "metadata": {
  "kernelspec": {
   "display_name": "Python 3",
   "language": "python",
   "name": "python3"
  },
  "language_info": {
   "codemirror_mode": {
    "name": "ipython",
    "version": 3
   },
   "file_extension": ".py",
   "mimetype": "text/x-python",
   "name": "python",
   "nbconvert_exporter": "python",
   "pygments_lexer": "ipython3",
   "version": "3.6.3"
  }
 },
 "nbformat": 4,
 "nbformat_minor": 2
}
