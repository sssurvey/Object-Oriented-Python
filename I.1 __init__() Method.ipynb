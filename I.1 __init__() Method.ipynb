{
 "cells": [
  {
   "cell_type": "markdown",
   "metadata": {},
   "source": [
    "# Special Methods\n",
    "\n",
    "Before we talk about the __init__() mehod in python. First we talk about the special method in python. The reason we want to have special methods in our classes is for use to design class that act like the native class that python provided, and that provide seamless interaction with Python. A good example is the for the class to act as a extensions of python.\n",
    "\n",
    "Within the Python language, there are large number of special mehods names, and they fall into the following categories:\n",
    "   1. Attribute Access: These special methods implement what we see as object.attribute in an expression, object.attribute on the left-hand side of an assignment, and object.attribute in a del statement\n",
    "   2. Callables: This special method implements what we see as a function that is applied to arguents, much like the built in len() function\n",
    "   3. Collections: These special methods implement the numerous features of collections. This involves methods like sequence[index], mapping[key], some_set|other_set\n",
    "   4. Numbers: These special methods provide arithmetic operators and comparison operators. We can use these methods to expand the domain of numbers that python works with\n",
    "   5. Context: There are two special mehods we'll use to implement a context manager that works with the with statement\n",
    "   6. Iterators: There are special methods that define an iterator. This isn't essential since generator functions handle this feature so elegantly. However, we will take a look at how we can design our own iterators\n",
    "   \n",
    "## Chapter 1 starts\n",
    "\n",
    "We will start talking about the most basic special methods == __init__(), this method permits a greate deal of latitude in providing the initial values for an object. In the case of an immutable object, this is the essential definition of the instance, and clarity becomes very important. In Chapter 1, we will review the numerous design alternatives for this method\n",
    "\n",
    "Before we start talking about the __init__() mehod, we will first take a look the class hierarchy in Python, and start with the super class of all, the Object class\n",
    "\n",
    "## The implicit superclass - Object\n",
    "\n",
    "Object is a very simple class definition that does not include anything (almost). It is possible for us to create an Object, however, many of the special methods will not work on this class. In the meantime, all the class we make is a extend of the object class, for example:"
   ]
  },
  {
   "cell_type": "code",
   "execution_count": 8,
   "metadata": {},
   "outputs": [
    {
     "name": "stdout",
     "output_type": "stream",
     "text": [
      "<class 'type'>\n",
      "<class 'object'>\n"
     ]
    }
   ],
   "source": [
    "class X:\n",
    "    pass\n",
    "\n",
    "class X(object):\n",
    "    pass\n",
    "\n",
    "print(X.__class__)\n",
    "print(X.__class__.__base__)"
   ]
  },
  {
   "cell_type": "markdown",
   "metadata": {},
   "source": [
    "This class is a sub-class of the super class object. As we can see from the type, a class is an object of the class named type, and the base class of the X object we created is the class named object."
   ]
  },
  {
   "cell_type": "markdown",
   "metadata": {},
   "source": [
    "### The base class object __init__() method\n",
    "\n",
    "The fundamental to the life cycle of an object are its: 1. Creation, 2. Initialization, 3. destruction. Here we will focus on talking about the Initialization. \n",
    "\n",
    "The object class has a default implementation of __init__() that amounts to just pass. It is not a must to implement __init__() in our class, if we dont implement this __init__() then no instance variables will be created when the object is created, for some class we might not need __init__(). But most of the time, we will implement __init__() to create instance variable for our custom class\n",
    "\n",
    "It is possible for us to add attributes to an object that is a subclass of the object. For example: "
   ]
  },
  {
   "cell_type": "code",
   "execution_count": 13,
   "metadata": {},
   "outputs": [
    {
     "name": "stdout",
     "output_type": "stream",
     "text": [
      "The area of the Rectangle instance is : 12\n"
     ]
    }
   ],
   "source": [
    "class Rectangle:\n",
    "    def area(self):\n",
    "        return self.length * self.width\n",
    "    \n",
    "r = Rectangle()\n",
    "r.length = 3\n",
    "r.width = 4\n",
    "print( \"The area of the Rectangle instance is : {}\".format(r.area()))"
   ]
  },
  {
   "cell_type": "markdown",
   "metadata": {},
   "source": [
    "The above code is legal in Python, but it causes a lot confusion, thus, it is not considered as a good practice, which should be avoided. Though this could be useful in some cases, it is left to the developer to decide. An __init__() method should make the instance variables explict"
   ]
  },
  {
   "cell_type": "markdown",
   "metadata": {},
   "source": [
    "### Implementing __init__() in a superclass\n",
    "\n",
    "When an object is created, python first create an empty object, and then call the __init__() method for that object. The __init__() method generally creates the object's instance variables and performs any other one-time processing"
   ]
  },
  {
   "cell_type": "code",
   "execution_count": 40,
   "metadata": {},
   "outputs": [],
   "source": [
    "class Card: # superClass Card\n",
    "    def __init__(self, rank, suit):\n",
    "        self.suit = suit\n",
    "        self.rank = rank\n",
    "        self.hard, self.sort = self._points()\n",
    "        \n",
    "class NumberCard(Card): # subClass NumberCard(Card)\n",
    "    def _points(self):\n",
    "        return int(self.rank), int(self.rank)\n",
    "\n",
    "class AceCard(Card):\n",
    "    def _points(self):\n",
    "        return 1, 11\n",
    "\n",
    "class FaceCard(Card):\n",
    "    def _points(self):\n",
    "        return 10, 10"
   ]
  },
  {
   "cell_type": "code",
   "execution_count": null,
   "metadata": {},
   "outputs": [],
   "source": []
  },
  {
   "cell_type": "markdown",
   "metadata": {},
   "source": [
    "In the example above, the __init__() method is in the superclass, so that a common initialization in the superclass, Card, applies to all the three subclasses. And we can also see the polymorphic design here, each sub class has their own implementation of the _points()_ method. All the subclasses have identical signatures, and all of them have the same signiture (a.k.a same attributes and methods). Thus objects of these three subclass can be used interchangeably"
   ]
  },
  {
   "cell_type": "code",
   "execution_count": 16,
   "metadata": {},
   "outputs": [],
   "source": [
    "cards = [AceCard(\"A\", \"Heart\"),NumberCard(\"2\", \"Heart\"),NumberCard(\"3\", \"Heart\")]"
   ]
  },
  {
   "cell_type": "markdown",
   "metadata": {},
   "source": [
    "Here we created a list of cards that has different card in it. We enumerated the object into the list by hand. However, in the future, we will use factory function to create a list. And before we do that, we take a look at some other issues"
   ]
  },
  {
   "cell_type": "markdown",
   "metadata": {},
   "source": [
    "### Using __init__() to create manifest constants\n",
    "\n",
    "Python has no simple formal mechanism for defining an object as immutable, will talk more aobut this in the future chapter. Here in the example we just assume that the object we are using is immutable\n",
    "\n",
    "The following is a class that we'll use to build four manifest constants:"
   ]
  },
  {
   "cell_type": "code",
   "execution_count": 17,
   "metadata": {},
   "outputs": [],
   "source": [
    "class Suit:\n",
    "    def __init__(self, name, symbol):\n",
    "        self.name = name\n",
    "        self.symbol = symbol"
   ]
  },
  {
   "cell_type": "markdown",
   "metadata": {},
   "source": [
    "Now the following is the domain of \"constant\" built around this class:"
   ]
  },
  {
   "cell_type": "code",
   "execution_count": 19,
   "metadata": {},
   "outputs": [],
   "source": [
    "Club, Diamond, Heart, Spade = Suit(\"Club\", \"♧\"), Suit(\"Diamond\", \"♢\"), Suit(\"Heart\", \"♡\"), Suit(\"Spade\", \"♤\")"
   ]
  },
  {
   "cell_type": "markdown",
   "metadata": {},
   "source": [
    "And now we can recreat cards by doing this:"
   ]
  },
  {
   "cell_type": "code",
   "execution_count": 21,
   "metadata": {},
   "outputs": [],
   "source": [
    "cards = [AceCard(\"A\", Heart), NumberCard(\"2\", Spade), NumberCard(\"5\", Club)]"
   ]
  },
  {
   "cell_type": "markdown",
   "metadata": {},
   "source": [
    "Though here it is not much of a improvement over the original cards list, which the Suit of card is represented by a simple string. But this shows a exmple, in more complex cases, there may be a short list of strategy or state object that can be created like this. This can make the Strategy or State design partterns work efficiently by reusing objects from a small static pool of constants.\n",
    "\n",
    "The difference between, State pattern and Strategy pattern:\n",
    "   1. The _State_ pattern deals with __what__(stete or type) an object is (in) -- it encapsulates state dependent behavior\n",
    "   2. The _Strategy_ pattern deals with __how__ an object performs a certain task -- it encapsulates an algorithum"
   ]
  },
  {
   "cell_type": "markdown",
   "metadata": {},
   "source": [
    "## Leveraging __init__() via a factory function\n",
    "\n",
    "Previously we create a deck of card with 3 cards via enumerated 3 cards into the list. Now we can build a complete deck of card via a factory function. And this is a much faster way compare to enumerating all 52 cards. In python there are 2 common approaches to factories as follows:\n",
    "\n",
    "1. We define a function that creates object of the required classes\n",
    "2. We define a class that has methods for creating objects. This is the full factory design pattern, as described in the books on design patterns. In languages such as java, a factory class hierarchy is required because the lang does not support standalone functions\n",
    "\n",
    "In python it is not required to have a class for the factory function, but it is a good idea when there are related factories that are complex. The advantages of a class definitions is that we can inheritant the factory class for reusing the factory function we in the class. If we have a factory class, we can add subclasses to the factory class when extending the target class hierarchy. This will result a polymorphic factory class. The different factory class definitions have the same method signatures and can be used interchangeably.\n",
    "\n",
    "The factory class defination in python is not that helpful if we use that factory once. Thus, we can simply use functions that have the same signatures. \n",
    "\n",
    "__Here is a factory function for the Card subclass :__"
   ]
  },
  {
   "cell_type": "code",
   "execution_count": 45,
   "metadata": {},
   "outputs": [],
   "source": [
    "def card(rank, suit):\n",
    "    if rank == 1: return AceCard('A', suit)\n",
    "    elif 2 <= rank < 11: return NumberCard(str(rank), suit)\n",
    "    elif 11 <= rank < 14:\n",
    "        name = {11:'J', 12:'Q', 13:'K'}[rank] # this is the same as aMap[\"key\"]\n",
    "        return FaceCard(name, suit)\n",
    "    else:\n",
    "        raise Exception(\"Rank out of range\")"
   ]
  },
  {
   "cell_type": "markdown",
   "metadata": {},
   "source": [
    "The function above bulds a Card class from a numeric rank number and a suit object. The above is a encapsulation of the construction issues in a single (factory) function, allowing an application to be built without knowing precisely how the class hierarchy and polymorphic design works.\n",
    "\n",
    "__Here is a example of how we can build a deck with this factory function:__"
   ]
  },
  {
   "cell_type": "code",
   "execution_count": 46,
   "metadata": {},
   "outputs": [],
   "source": [
    "deck = [card(rank, suit) \n",
    "        for rank in range(1, 14) \n",
    "            for suit in (Club, Diamond, Heart, Spade)]"
   ]
  },
  {
   "cell_type": "markdown",
   "metadata": {},
   "source": [
    "The above loop enumerates all the ranks and suits to create a complete deck of 52 cards"
   ]
  },
  {
   "cell_type": "markdown",
   "metadata": {},
   "source": [
    "### Faulty factory design and the vague else clause\n",
    "\n",
    "We should not use a catch-all else clause to do any processing, we only use it to raise an exception. It is important to avoid the vague else clause, __An Example__:"
   ]
  },
  {
   "cell_type": "code",
   "execution_count": 49,
   "metadata": {},
   "outputs": [],
   "source": [
    "def card2(rank, suit):\n",
    "    if rank == 1: return Card('A', suit)\n",
    "    elif 2 <= rank < 11: return NumberCard(str(rank), suit)\n",
    "    else:\n",
    "        name = {11:\"J\", 12:\"Q\", 13:\"K\"}[rank]\n",
    "        return FaceCard(name, suit)"
   ]
  },
  {
   "cell_type": "code",
   "execution_count": 51,
   "metadata": {
    "collapsed": true
   },
   "outputs": [
    {
     "name": "stdout",
     "output_type": "stream",
     "text": [
      "asfasf\n"
     ]
    },
    {
     "ename": "KeyError",
     "evalue": "0",
     "output_type": "error",
     "traceback": [
      "\u001b[0;31m---------------------------------------------------------------------------\u001b[0m",
      "\u001b[0;31mKeyError\u001b[0m                                  Traceback (most recent call last)",
      "\u001b[0;32m<ipython-input-51-f52d74dff2c3>\u001b[0m in \u001b[0;36m<module>\u001b[0;34m()\u001b[0m\n\u001b[0;32m----> 1\u001b[0;31m \u001b[0mdeck2\u001b[0m \u001b[0;34m=\u001b[0m \u001b[0;34m[\u001b[0m\u001b[0mcard2\u001b[0m\u001b[0;34m(\u001b[0m\u001b[0mrank\u001b[0m\u001b[0;34m,\u001b[0m \u001b[0msuit\u001b[0m\u001b[0;34m)\u001b[0m \u001b[0;32mfor\u001b[0m \u001b[0mrank\u001b[0m \u001b[0;32min\u001b[0m \u001b[0mrange\u001b[0m\u001b[0;34m(\u001b[0m\u001b[0;36m13\u001b[0m\u001b[0;34m)\u001b[0m \u001b[0;32mfor\u001b[0m \u001b[0msuit\u001b[0m \u001b[0;32min\u001b[0m \u001b[0;34m(\u001b[0m\u001b[0mClub\u001b[0m\u001b[0;34m,\u001b[0m \u001b[0mDiamond\u001b[0m\u001b[0;34m,\u001b[0m \u001b[0mHeart\u001b[0m\u001b[0;34m,\u001b[0m \u001b[0mSpade\u001b[0m\u001b[0;34m)\u001b[0m\u001b[0;34m]\u001b[0m\u001b[0;34m\u001b[0m\u001b[0m\n\u001b[0m",
      "\u001b[0;32m<ipython-input-51-f52d74dff2c3>\u001b[0m in \u001b[0;36m<listcomp>\u001b[0;34m(.0)\u001b[0m\n\u001b[0;32m----> 1\u001b[0;31m \u001b[0mdeck2\u001b[0m \u001b[0;34m=\u001b[0m \u001b[0;34m[\u001b[0m\u001b[0mcard2\u001b[0m\u001b[0;34m(\u001b[0m\u001b[0mrank\u001b[0m\u001b[0;34m,\u001b[0m \u001b[0msuit\u001b[0m\u001b[0;34m)\u001b[0m \u001b[0;32mfor\u001b[0m \u001b[0mrank\u001b[0m \u001b[0;32min\u001b[0m \u001b[0mrange\u001b[0m\u001b[0;34m(\u001b[0m\u001b[0;36m13\u001b[0m\u001b[0;34m)\u001b[0m \u001b[0;32mfor\u001b[0m \u001b[0msuit\u001b[0m \u001b[0;32min\u001b[0m \u001b[0;34m(\u001b[0m\u001b[0mClub\u001b[0m\u001b[0;34m,\u001b[0m \u001b[0mDiamond\u001b[0m\u001b[0;34m,\u001b[0m \u001b[0mHeart\u001b[0m\u001b[0;34m,\u001b[0m \u001b[0mSpade\u001b[0m\u001b[0;34m)\u001b[0m\u001b[0;34m]\u001b[0m\u001b[0;34m\u001b[0m\u001b[0m\n\u001b[0m",
      "\u001b[0;32m<ipython-input-49-1e5fb17f66cc>\u001b[0m in \u001b[0;36mcard2\u001b[0;34m(rank, suit)\u001b[0m\n\u001b[1;32m      5\u001b[0m     \u001b[0;32melif\u001b[0m \u001b[0;36m2\u001b[0m \u001b[0;34m<=\u001b[0m \u001b[0mrank\u001b[0m \u001b[0;34m<\u001b[0m \u001b[0;36m11\u001b[0m\u001b[0;34m:\u001b[0m \u001b[0;32mreturn\u001b[0m \u001b[0mNumberCard\u001b[0m\u001b[0;34m(\u001b[0m\u001b[0mstr\u001b[0m\u001b[0;34m(\u001b[0m\u001b[0mrank\u001b[0m\u001b[0;34m)\u001b[0m\u001b[0;34m,\u001b[0m \u001b[0msuit\u001b[0m\u001b[0;34m)\u001b[0m\u001b[0;34m\u001b[0m\u001b[0m\n\u001b[1;32m      6\u001b[0m     \u001b[0;32melse\u001b[0m\u001b[0;34m:\u001b[0m\u001b[0;34m\u001b[0m\u001b[0m\n\u001b[0;32m----> 7\u001b[0;31m         \u001b[0mname\u001b[0m \u001b[0;34m=\u001b[0m \u001b[0;34m{\u001b[0m\u001b[0;36m11\u001b[0m\u001b[0;34m:\u001b[0m\u001b[0;34m\"J\"\u001b[0m\u001b[0;34m,\u001b[0m \u001b[0;36m12\u001b[0m\u001b[0;34m:\u001b[0m\u001b[0;34m\"Q\"\u001b[0m\u001b[0;34m,\u001b[0m \u001b[0;36m13\u001b[0m\u001b[0;34m:\u001b[0m\u001b[0;34m\"K\"\u001b[0m\u001b[0;34m}\u001b[0m\u001b[0;34m[\u001b[0m\u001b[0mrank\u001b[0m\u001b[0;34m]\u001b[0m\u001b[0;34m\u001b[0m\u001b[0m\n\u001b[0m\u001b[1;32m      8\u001b[0m         \u001b[0;32mreturn\u001b[0m \u001b[0mFaceCard\u001b[0m\u001b[0;34m(\u001b[0m\u001b[0mname\u001b[0m\u001b[0;34m,\u001b[0m \u001b[0msuit\u001b[0m\u001b[0;34m)\u001b[0m\u001b[0;34m\u001b[0m\u001b[0m\n",
      "\u001b[0;31mKeyError\u001b[0m: 0"
     ]
    }
   ],
   "source": [
    "deck2 = [card2(rank, suit) for rank in range(13) for suit in (Club, Diamond, Heart, Spade)]"
   ]
  },
  {
   "cell_type": "markdown",
   "metadata": {},
   "source": [
    "Notice the program got interrupted and an error occur, it is because rank now starts from 0 to 13 instead of 1 to 14. Since when the rank == 0 it is in the else clause, thus a card is trying to be created. Thus the error occur. If we use the old function, it is easier to spot the mistake, it is because of \"Rank out of range\"\n",
    "\n",
    "Remeber, only use else clause for processing if the condition is obvious. When in doubt, use an elif"
   ]
  },
  {
   "cell_type": "markdown",
   "metadata": {},
   "source": [
    "### Simplicity and consistency using elif sequences\n",
    "\n",
    "There are 2 very common factory design patterns in the card factory function we have:\n",
    "1. An if-elif sequence\n",
    "2. A mapping\n",
    "\n",
    "It is __always__ possible for us to replace a mapping with elif conditions. (However, it is not possible for a map to replace if-elif) Here is a example of the new card factory function with the mapping replaced by the if-elif statement:"
   ]
  },
  {
   "cell_type": "code",
   "execution_count": 52,
   "metadata": {},
   "outputs": [],
   "source": [
    "def card3(rank, suit):\n",
    "    if rank == 1: return Card(\"A\", suit)\n",
    "    elif 2 <= rank < 11: return Card(str(rank), suit)\n",
    "    elif rank == 11: return FaceCard(\"J\", suit)\n",
    "    elif rank == 12: return FaceCard(\"Q\", suit)\n",
    "    elif rank == 13: return FaceCard(\"K\", suit)\n",
    "    else: raise Exception(\"Rank out of range\")"
   ]
  },
  {
   "cell_type": "markdown",
   "metadata": {},
   "source": [
    "Now as you can see in the above card factory function, the map has been replace via a if-elif clause, and it will work as the same card() function. This function has the advantage that it is more consistent than the previous card factory function"
   ]
  },
  {
   "cell_type": "markdown",
   "metadata": {},
   "source": [
    "### Simplicity using mapping and class objects\n",
    "\n",
    "In some other cases mapping works better than the if-elif clause. For complex cases, if-elif might be the only way to describe the process, however, for the simple cases a mapping solution might be the better choice, in the mean time, it is easier to read"
   ]
  },
  {
   "cell_type": "code",
   "execution_count": 58,
   "metadata": {},
   "outputs": [],
   "source": [
    "def card4(rank, suit):\n",
    "    class_ = {1: AceCard, 11: FaceCard, 12: FaceCard, 13: FaceCard}.get(rank, NumberCard)\n",
    "    # dict.get(key, defult=), here it means, case 1, 11, 12, 13 is like the special case, and all others == Number\n",
    "    # class_ here is a holder of the class == *card\n",
    "    return class_(rank, suit)"
   ]
  },
  {
   "cell_type": "markdown",
   "metadata": {},
   "source": [
    "__class___ explain, the postfix underscore naming convention is used when the most fit name for a variable is occupied by a keyword, thus we add postfixed underscore to our variable name to avoid the rule break"
   ]
  },
  {
   "cell_type": "code",
   "execution_count": 57,
   "metadata": {},
   "outputs": [],
   "source": [
    "deck2 = [card4(rank, suit) for rank in range(1, 14) for suit in (Club, Diamond, Heart, Spade)]"
   ]
  },
  {
   "cell_type": "markdown",
   "metadata": {},
   "source": [
    "Basically what happend here is that, in the function called card4, a class object called class_ is created, this object can be AceCard, FaceCard or NumberCard. Now we have passed in a rank and a suit, rank is a number, while the temp dict is mapped by number as key, while card object as value. This is just like the if condition or a switch satement. the class_ is determined by the number, if the number is == 1, the class_ is assigned as a AceCard, if its 11,12,13 then it is assigned as a FaceCard, else, it is default as a NumberCard. after the class_ object is determined. we return it with class_(rank, suit), while the rank is provided by outer for loop and suit is provide by the inner for loop, just like what we have for the card function. __Notice__ for this function, it is not maping rank 1 == \"A\" or 11,12,13 == \"J\",\"Q\",\"K\". This can be avoided by using Two parallel mappings, but it is not recommanded, and an alternative solution is that to have __init__() do the mapping of this part"
   ]
  },
  {
   "cell_type": "markdown",
   "metadata": {},
   "source": [
    "### Mapping to a tuple of values\n",
    "\n",
    "Here is a example of this kind of factory function design: __The goal of this is to mantain what we have in card4(), while in the same time, provide a rank to string mapping, a.k.a, 11 ==> \"J\"__"
   ]
  },
  {
   "cell_type": "code",
   "execution_count": 59,
   "metadata": {},
   "outputs": [],
   "source": [
    "def card5(rank, suit):\n",
    "    class_, rank_str = {\n",
    "        1: (AceCard, 'A'),\n",
    "        11: (FaceCard, 'J'),\n",
    "        12: (FaceCard, 'Q'),\n",
    "        13: (FaceCard, 'K'),\n",
    "    }.get(rank, (NumberCard, str(rank)))\n",
    "    return class_(rank_str, suit)"
   ]
  },
  {
   "cell_type": "markdown",
   "metadata": {},
   "source": [
    "__Explain__, in this card5 factory method, we have both:\n",
    "\n",
    "1. class_\n",
    "2. rank_str\n",
    "\n",
    "need to be assigned, we write special case for AceCard, and FaceCard, mapped via key == rank, while left the default to be the NumberCard. Notice we bound the rank string value with each card type, thus, while we are searching values that has key == rank, we change rank to ranked_str at the same time. At the end we achieve the same outcome as the original card() factory function"
   ]
  },
  {
   "cell_type": "code",
   "execution_count": null,
   "metadata": {},
   "outputs": [],
   "source": []
  }
 ],
 "metadata": {
  "kernelspec": {
   "display_name": "Python 3",
   "language": "python",
   "name": "python3"
  },
  "language_info": {
   "codemirror_mode": {
    "name": "ipython",
    "version": 3
   },
   "file_extension": ".py",
   "mimetype": "text/x-python",
   "name": "python",
   "nbconvert_exporter": "python",
   "pygments_lexer": "ipython3",
   "version": "3.6.3"
  }
 },
 "nbformat": 4,
 "nbformat_minor": 2
}
