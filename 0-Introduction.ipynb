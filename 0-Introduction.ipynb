{
 "cells": [
  {
   "cell_type": "markdown",
   "metadata": {},
   "source": [
    "# Object design\n",
    "# Introduction\n",
    "\n",
    "## Container:\n",
    "\n",
    "1. The hand:\n",
    "    a. This container will contain zero or more card objects\n",
    "2. The card:\n",
    "    a. This object will have some subclasses like -> NumberCard, FaceCard, and Ace\n",
    "\n",
    "\n",
    "## Preformance measurement:\n",
    "\n",
    "1. The timeit module\n",
    "    a. This function creates a timer object for some statement\n",
    "    b. how to use -> timeit.timeit(\"function()\", \"\"\"def function(): pass\"\"\")"
   ]
  },
  {
   "cell_type": "code",
   "execution_count": 3,
   "metadata": {},
   "outputs": [
    {
     "data": {
      "text/plain": [
       "0.06704890300170518"
      ]
     },
     "execution_count": 3,
     "metadata": {},
     "output_type": "execute_result"
    }
   ],
   "source": [
    "import timeit\n",
    "\n",
    "timeit.timeit(\"function()\",\"\"\"def function():pass\"\"\")\n",
    "\n",
    "# this shows us how long this function takes by running it 100,000 times, and the return is the total time"
   ]
  },
  {
   "cell_type": "markdown",
   "metadata": {},
   "source": [
    "## Testing - unittest and doctest\n",
    "\n",
    "1. There are 2 built-in testing frameworks, the general wrapper for all testing is the |unittest module\n",
    "2. Generally, we want to develop the testcase first and then write code that fits these test cases. The test cases formalize the API for the code\n",
    "    a. One way to approach the idea of |unittest tools is to create at least 3 parallel dir for the project you are working on:\n",
    "        I. myproject: this dir is the final package that will be installed in lib/site-packages for the app. it has __init__.py and\n",
    "        II. test: this dir has the test scripts\n",
    "        III. doc: this dir has other documentation\n",
    "3. When there are multiple class candidates, we want to do the test on each of the class candidate first to make sure that all the candidate works. Then we move on and compare the performance of candidate classes next, since there is no need to compare the performance if the class cant pass the test case in the first place"
   ]
  },
  {
   "cell_type": "code",
   "execution_count": 22,
   "metadata": {},
   "outputs": [],
   "source": [
    "import types\n",
    "import unittest\n",
    "\n",
    "class TestAccess(unittest.TestCase):\n",
    "    def test_should_add_and_get_attribute(self):\n",
    "        self.object.new_attribute= True\n",
    "        self.assertTrue(self.object.new_attribute)\n",
    "    def test_should_fail_on_missing(self):\n",
    "        self.assertRaises(AttributeError, lambda: self.object.undefined)"
   ]
  },
  {
   "cell_type": "code",
   "execution_count": 23,
   "metadata": {},
   "outputs": [],
   "source": [
    "class SomeClass:\n",
    "    pass\n",
    "class Test_EmptyClass(TestAccess):\n",
    "    def setUp(self):\n",
    "        self.object = SomeClass()\n",
    "class Test_Namespace(TestAccess):\n",
    "    def setUp(self):\n",
    "        self.object = types.SimpleNamespace()\n",
    "class Test_Object(TestAccess):\n",
    "    def setUp(self):\n",
    "        self.object = object()"
   ]
  },
  {
   "cell_type": "code",
   "execution_count": 25,
   "metadata": {},
   "outputs": [
    {
     "name": "stderr",
     "output_type": "stream",
     "text": [
      "....E.\n",
      "======================================================================\n",
      "ERROR: test_should_add_and_get_attribute (__main__.Test_Object)\n",
      "----------------------------------------------------------------------\n",
      "Traceback (most recent call last):\n",
      "  File \"<ipython-input-22-b107384b0c19>\", line 6, in test_should_add_and_get_attribute\n",
      "    self.object.new_attribute= True\n",
      "AttributeError: 'object' object has no attribute 'new_attribute'\n",
      "\n",
      "----------------------------------------------------------------------\n",
      "Ran 6 tests in 0.008s\n",
      "\n",
      "FAILED (errors=1)\n"
     ]
    },
    {
     "data": {
      "text/plain": [
       "<unittest.runner.TextTestResult run=6 errors=1 failures=0>"
      ]
     },
     "execution_count": 25,
     "metadata": {},
     "output_type": "execute_result"
    }
   ],
   "source": [
    "def suite():\n",
    "    s = unittest.TestSuite()\n",
    "    s.addTests(unittest.defaultTestLoader.loadTestsFromTestCase(Test_EmptyClass))\n",
    "    s.addTests(unittest.defaultTestLoader.loadTestsFromTestCase(Test_Namespace))\n",
    "    s.addTests(unittest.defaultTestLoader.loadTestsFromTestCase(Test_Object))\n",
    "    return s\n",
    "t = unittest.TextTestRunner()\n",
    "t.run(suite())"
   ]
  },
  {
   "cell_type": "markdown",
   "metadata": {},
   "source": [
    "## Docstrings - RST markup (ReStructured Text)\n",
    "\n",
    "What a Docstring material is used by Python?\n",
    "    1. The internal help() function displays the docstrings\n",
    "    2. The doctest tool can find examples in the docstrings and run them as test cases\n",
    "    3. External tools can produce elegant documentation extracts\n",
    "\n",
    "Here is a good example:"
   ]
  },
  {
   "cell_type": "code",
   "execution_count": 27,
   "metadata": {},
   "outputs": [],
   "source": [
    "def factorial (n):\n",
    "    \"\"\"\n",
    "    compute n! recursively\n",
    "    :param n: an int >=0\n",
    "    :returns: n!\n",
    "    \n",
    "    Because of python's stack limitation this won't compute a value larger than 1000\n",
    "    \n",
    "    >>> factorial(5)\n",
    "    120\n",
    "    \"\"\"\n",
    "    if n == 0: return 1\n",
    "    return n*factorial(n-1)"
   ]
  },
  {
   "cell_type": "code",
   "execution_count": 33,
   "metadata": {},
   "outputs": [
    {
     "name": "stdout",
     "output_type": "stream",
     "text": [
      "Help on function factorial in module __main__:\n",
      "\n",
      "factorial(n)\n",
      "    compute n! recursively\n",
      "    :param n: an int >=0\n",
      "    :returns: n!\n",
      "    \n",
      "    Because of python's stack limitation this won't compute a value larger than 1000\n",
      "    \n",
      "    >>> factorial(5)\n",
      "    120\n",
      "\n"
     ]
    }
   ],
   "source": [
    "help(factorial)"
   ]
  },
  {
   "cell_type": "markdown",
   "metadata": {},
   "source": [
    "## Summary\n",
    "\n",
    "1. Introduction to the game blackjack\n",
    "2. Introduction to some of the module that is essential to the future part of the book:\n",
    "    a. The timeit module\n",
    "    b. The unittest and doctest module"
   ]
  }
 ],
 "metadata": {
  "kernelspec": {
   "display_name": "Python 3",
   "language": "python",
   "name": "python3"
  },
  "language_info": {
   "codemirror_mode": {
    "name": "ipython",
    "version": 3
   },
   "file_extension": ".py",
   "mimetype": "text/x-python",
   "name": "python",
   "nbconvert_exporter": "python",
   "pygments_lexer": "ipython3",
   "version": "3.6.3"
  }
 },
 "nbformat": 4,
 "nbformat_minor": 2
}
